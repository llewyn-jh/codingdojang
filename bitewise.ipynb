{
 "cells": [
  {
   "cell_type": "code",
   "execution_count": null,
   "id": "interstate-france",
   "metadata": {},
   "outputs": [],
   "source": [
    "%config Completer.use_jedi = False"
   ]
  },
  {
   "cell_type": "code",
   "execution_count": null,
   "id": "directed-bachelor",
   "metadata": {},
   "outputs": [],
   "source": [
    "def solution(n: int, arr1: list, arr2: list) -> list:\n",
    "    decodes = []\n",
    "    for num_1, num_2 in zip(arr1, arr2):        \n",
    "        bitewise = bin(num_1 | num_2)[2:]\n",
    "        zero_padding = bitewise.zfill(n)\n",
    "        decoding_1 = zero_padding.replace('1', '#')\n",
    "        decodgin_2 = decoding_1.replace('0', ' ')\n",
    "        decodes.append(decodgin_2)\n",
    "    return decodes\n"
   ]
  }
 ],
 "metadata": {
  "kernelspec": {
   "display_name": "Python 3",
   "language": "python",
   "name": "python3"
  },
  "language_info": {
   "codemirror_mode": {
    "name": "ipython",
    "version": 3
   },
   "file_extension": ".py",
   "mimetype": "text/x-python",
   "name": "python",
   "nbconvert_exporter": "python",
   "pygments_lexer": "ipython3",
   "version": "3.8.2"
  }
 },
 "nbformat": 4,
 "nbformat_minor": 5
}
