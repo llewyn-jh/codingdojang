{
 "cells": [
  {
   "cell_type": "code",
   "execution_count": null,
   "metadata": {},
   "outputs": [],
   "source": [
    "height = input('Enter an height: ')\n",
    "width = input('Enter an width: ')\n",
    "\n",
    "arrays = []\n",
    "for n in range(0, int(height)):\n",
    "    arr = input(\"Enter integer array{} with space ' ': \".format(n + 1))\n",
    "    arr = arr.split(' ')\n",
    "    arr = list(map(int, arr))\n",
    "    assert sum(arr) <= int(width), 'The sum of array can not be greater than {}'.format(width)\n",
    "    arrays.append(arr)\n",
    "    \n",
    "for arr in arrays:\n",
    "    arr2bit = []\n",
    "    for i, n in enumerate(arr):\n",
    "        if i == 0 and n == 0:\n",
    "            pass\n",
    "        else:\n",
    "            if i % 2 == 0:\n",
    "                arr2bit.append(n * '□')\n",
    "            else:\n",
    "                arr2bit.append(n * '■')\n",
    "                \n",
    "    m = ''\n",
    "    for b in arr2bit:\n",
    "        m += b\n",
    "    print('\\n', m)\n",
    "    "
   ]
  }
 ],
 "metadata": {
  "kernelspec": {
   "display_name": "Python 3",
   "language": "python",
   "name": "python3"
  },
  "language_info": {
   "codemirror_mode": {
    "name": "ipython",
    "version": 3
   },
   "file_extension": ".py",
   "mimetype": "text/x-python",
   "name": "python",
   "nbconvert_exporter": "python",
   "pygments_lexer": "ipython3",
   "version": "3.6.8"
  }
 },
 "nbformat": 4,
 "nbformat_minor": 4
}
