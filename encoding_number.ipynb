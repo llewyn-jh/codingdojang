{
 "cells": [
  {
   "cell_type": "code",
   "execution_count": 1,
   "id": "surprised-election",
   "metadata": {},
   "outputs": [],
   "source": [
    "%config Completer.use_jedi = False"
   ]
  },
  {
   "cell_type": "code",
   "execution_count": 3,
   "id": "verbal-omega",
   "metadata": {},
   "outputs": [],
   "source": [
    "import math\n",
    "\n",
    "def password(n):\n",
    "    step1 = n ** (1/2) * 1000\n",
    "    step2 = math.trunc(step1)\n",
    "    return step2 - n"
   ]
  }
 ],
 "metadata": {
  "kernelspec": {
   "display_name": "Python 3",
   "language": "python",
   "name": "python3"
  },
  "language_info": {
   "codemirror_mode": {
    "name": "ipython",
    "version": 3
   },
   "file_extension": ".py",
   "mimetype": "text/x-python",
   "name": "python",
   "nbconvert_exporter": "python",
   "pygments_lexer": "ipython3",
   "version": "3.6.9"
  }
 },
 "nbformat": 4,
 "nbformat_minor": 5
}
