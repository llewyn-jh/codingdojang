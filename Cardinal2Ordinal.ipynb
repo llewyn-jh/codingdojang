{
 "cells": [
  {
   "cell_type": "code",
   "execution_count": null,
   "metadata": {},
   "outputs": [],
   "source": [
    "def last_digit_reader(x):\n",
    "    last1digit = x[-1:]\n",
    "    if int(last1digit) == 1:\n",
    "        print(x + \"st\")\n",
    "    elif int(last1digit) == 2:\n",
    "        print(x + \"nd\")\n",
    "    elif int(last1digit) == 3:\n",
    "        print(x + \"st\")\n",
    "    else:\n",
    "        print(x + \"th\")\n",
    "\n",
    "def cardinal2ordinal(x):\n",
    "    if len(x) > 1:\n",
    "        last2digit = x[-2:]\n",
    "        if int(last2digit) < 20:\n",
    "            print(x + \"th\")\n",
    "        else:\n",
    "            last_digit_reader(x)\n",
    "    else:\n",
    "        last_digit_reader(x)\n",
    "        \n",
    "positive_integer = input(\"Enter a positive integer: \")\n",
    "assert int(positive_integer) > 0, \"Must enter a positive integer\"\n",
    "cardinal2ordinal(positive_integer)        "
   ]
  }
 ],
 "metadata": {
  "kernelspec": {
   "display_name": "Python 3",
   "language": "python",
   "name": "python3"
  },
  "language_info": {
   "codemirror_mode": {
    "name": "ipython",
    "version": 3
   },
   "file_extension": ".py",
   "mimetype": "text/x-python",
   "name": "python",
   "nbconvert_exporter": "python",
   "pygments_lexer": "ipython3",
   "version": "3.7.6"
  }
 },
 "nbformat": 4,
 "nbformat_minor": 4
}
