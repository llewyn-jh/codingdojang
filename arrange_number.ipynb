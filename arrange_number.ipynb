{
 "cells": [
  {
   "cell_type": "code",
   "execution_count": 1,
   "metadata": {},
   "outputs": [],
   "source": [
    "%config Completer.use_jedi = False"
   ]
  },
  {
   "cell_type": "code",
   "execution_count": 40,
   "metadata": {},
   "outputs": [
    {
     "name": "stdout",
     "output_type": "stream",
     "text": [
      "[3, 2, 9, 1, 4, 5, 8, 7, 6]\n",
      "[1, 2, 9, 3, 8, 6, 5, 7, 4]\n",
      "[4, 3, 8, 5, 9, 1, 7, 6, 2]\n",
      "[4, 5, 1, 6, 9, 8, 7, 3, 2]\n",
      "[5, 6, 7, 8, 9, 1, 2, 4, 3]\n"
     ]
    }
   ],
   "source": [
    "import random\n",
    "\n",
    "a = list(range(1, 10))\n",
    "for n in range(1, 6):\n",
    "    random.seed(n)\n",
    "    rearranged_a = random.sample(a, len(a))\n",
    "    print(rearranged_a)"
   ]
  }
 ],
 "metadata": {
  "kernelspec": {
   "display_name": "Python 3",
   "language": "python",
   "name": "python3"
  },
  "language_info": {
   "codemirror_mode": {
    "name": "ipython",
    "version": 3
   },
   "file_extension": ".py",
   "mimetype": "text/x-python",
   "name": "python",
   "nbconvert_exporter": "python",
   "pygments_lexer": "ipython3",
   "version": "3.6.9"
  }
 },
 "nbformat": 4,
 "nbformat_minor": 4
}
