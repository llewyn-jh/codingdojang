{
 "cells": [
  {
   "cell_type": "code",
   "execution_count": null,
   "id": "nasty-basic",
   "metadata": {},
   "outputs": [],
   "source": [
    "%config Completer.use_jedi = False"
   ]
  },
  {
   "cell_type": "code",
   "execution_count": null,
   "id": "willing-repair",
   "metadata": {},
   "outputs": [],
   "source": [
    "from itertools import combinations_with_replacement\n",
    "\n",
    "def factorize_natural_number(n, m):\n",
    "    \"\"\"\n",
    "    자연수 n, m을 입력받아서 n이 m개의 자연수들의 합으로 표현합니다.\n",
    "    \n",
    "    -----------------------------------------------------\n",
    "    \n",
    "    return\n",
    "    \n",
    "    1. 경우의 수\n",
    "    2. 자연수들 쌍\n",
    "    \"\"\"\n",
    "    pairs = combinations_with_replacement(range(1, n), m)\n",
    "    result = [pair for pair in pairs if sum(pair) == n]\n",
    "    return len(result), result\n",
    "\n",
    "# Example\n",
    "num, result = factorize_natural_number(10, 4)\n",
    "print(\"경우의 수: {}\".format(num))\n",
    "print(\"자연수들 쌍: {}\".format(result))"
   ]
  }
 ],
 "metadata": {
  "kernelspec": {
   "display_name": "Python 3",
   "language": "python",
   "name": "python3"
  },
  "language_info": {
   "codemirror_mode": {
    "name": "ipython",
    "version": 3
   },
   "file_extension": ".py",
   "mimetype": "text/x-python",
   "name": "python",
   "nbconvert_exporter": "python",
   "pygments_lexer": "ipython3",
   "version": "3.8.7"
  }
 },
 "nbformat": 4,
 "nbformat_minor": 5
}
