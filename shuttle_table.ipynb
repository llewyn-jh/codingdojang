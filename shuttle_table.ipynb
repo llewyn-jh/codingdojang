{
 "cells": [
  {
   "cell_type": "code",
   "execution_count": 13,
   "id": "spectacular-trust",
   "metadata": {},
   "outputs": [],
   "source": [
    "%config Completer.use_jedi = False"
   ]
  },
  {
   "cell_type": "code",
   "execution_count": 14,
   "id": "aerial-editing",
   "metadata": {},
   "outputs": [],
   "source": [
    "n = 1\n",
    "t = 1\n",
    "m = 5\n",
    "timetable = [\"00:01\", \"00:01\", \"00:01\", \"00:01\", \"00:01\"]"
   ]
  },
  {
   "cell_type": "code",
   "execution_count": 15,
   "id": "three-fountain",
   "metadata": {},
   "outputs": [],
   "source": [
    "import datetime"
   ]
  },
  {
   "cell_type": "code",
   "execution_count": 19,
   "id": "conceptual-differential",
   "metadata": {},
   "outputs": [],
   "source": [
    "def solution(n: int, t: int, m: int, timetable: list) -> str:\n",
    "    \n",
    "    # hours to mintues\n",
    "    new_timetable = []\n",
    "    for tt in timetable:\n",
    "        hh = int(tt.split(\":\")[0])\n",
    "        mm = int(tt.split(\":\")[1])\n",
    "        minutes = hh * 60 + mm\n",
    "        new_timetable.append(minutes)\n",
    "        new_timetable.sort()\n",
    "\n",
    "    # shuttle start: timetable\n",
    "    shuttle_start_time = [i * t + 540 for i in range(n)]\n",
    "    passengers = {st: [] for st in shuttle_start_time}\n",
    "\n",
    "    for nt in new_timetable:\n",
    "        lower_limits = [st for st in shuttle_start_time if st <= nt]\n",
    "        upper_limits = [st for st in shuttle_start_time if st > nt]\n",
    "\n",
    "        if len(lower_limits) > 0 and len(upper_limits) > 0:\n",
    "            mll = lower_limits[-1]\n",
    "            mul = upper_limits[0]\n",
    "            if mll == nt:\n",
    "                if len(passengers[mll]) < m:\n",
    "                    passengers[mll].append(nt)\n",
    "                else:\n",
    "                    passengers[mul].append(nt)\n",
    "            else:\n",
    "                for ul in upper_limits:\n",
    "                    if len(passengers[ul]) < m:\n",
    "                        passengers[ul].append(nt)\n",
    "                        break\n",
    "                    else:\n",
    "                        continue\n",
    "\n",
    "        elif len(lower_limits) > 0 and len(upper_limits) == 0:\n",
    "            passengers[lower_limits[-1]].append(nt)\n",
    "\n",
    "        elif len(lower_limits) == 0 and len(upper_limits) > 0:\n",
    "            for ul in upper_limits:\n",
    "                if len(passengers[ul]) < m:\n",
    "                    passengers[ul].append(nt)\n",
    "                    break\n",
    "                else:\n",
    "                    continue\n",
    "\n",
    "    # answer\n",
    "    for t in shuttle_start_time[::-1]:\n",
    "        if len(passengers[t]) < m:\n",
    "            answer = t\n",
    "        else:\n",
    "            answer = max(passengers[t]) - 1\n",
    "        break\n",
    "        \n",
    "    HH, MM = divmod(answer, 60)\n",
    "    result = \"{}:{}\".format(str(HH).zfill(2), str(MM).zfill(2))\n",
    "    return result"
   ]
  },
  {
   "cell_type": "code",
   "execution_count": 20,
   "id": "satisfactory-behalf",
   "metadata": {},
   "outputs": [
    {
     "data": {
      "text/plain": [
       "'00:00'"
      ]
     },
     "execution_count": 20,
     "metadata": {},
     "output_type": "execute_result"
    }
   ],
   "source": [
    "solution(1, 1, 5, timetable)"
   ]
  }
 ],
 "metadata": {
  "kernelspec": {
   "display_name": "Python 3",
   "language": "python",
   "name": "python3"
  },
  "language_info": {
   "codemirror_mode": {
    "name": "ipython",
    "version": 3
   },
   "file_extension": ".py",
   "mimetype": "text/x-python",
   "name": "python",
   "nbconvert_exporter": "python",
   "pygments_lexer": "ipython3",
   "version": "3.8.2"
  }
 },
 "nbformat": 4,
 "nbformat_minor": 5
}
