{
 "cells": [
  {
   "cell_type": "code",
   "execution_count": null,
   "id": "forbidden-shark",
   "metadata": {},
   "outputs": [],
   "source": [
    "%config Completer.use_jedi = False"
   ]
  },
  {
   "cell_type": "code",
   "execution_count": null,
   "id": "useful-coffee",
   "metadata": {},
   "outputs": [],
   "source": [
    "print(\"1p input: 1\")\n",
    "print(\"1p input: 2\")\n",
    "for n in range(6, 31, 4):\n",
    "    user_inputs = input(prompt=\"2p input: \")\n",
    "    user_inputs = user_inputs.split()\n",
    "    user_inputs = [int(val) for val in user_inputs]\n",
    "    if 31 in user_inputs:\n",
    "        print(\"over\")\n",
    "        break\n",
    "    M = max(user_inputs)\n",
    "    computer_inputs = [M + 1, M + 2, M + 3]\n",
    "    for val in computer_inputs:\n",
    "        if val == n:\n",
    "            print(\"1p input: \", val)\n",
    "            if val == 30:\n",
    "                print(\"over\")\n",
    "            break\n",
    "        else:\n",
    "            print(\"1p input: \", val)"
   ]
  }
 ],
 "metadata": {
  "kernelspec": {
   "display_name": "Python 3",
   "language": "python",
   "name": "python3"
  },
  "language_info": {
   "codemirror_mode": {
    "name": "ipython",
    "version": 3
   },
   "file_extension": ".py",
   "mimetype": "text/x-python",
   "name": "python",
   "nbconvert_exporter": "python",
   "pygments_lexer": "ipython3",
   "version": "3.8.7"
  }
 },
 "nbformat": 4,
 "nbformat_minor": 5
}
