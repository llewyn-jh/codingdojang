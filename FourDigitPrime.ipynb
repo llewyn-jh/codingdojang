{
 "cells": [
  {
   "cell_type": "code",
   "execution_count": 60,
   "metadata": {},
   "outputs": [
    {
     "name": "stdout",
     "output_type": "stream",
     "text": [
      "148748178147\n",
      "296962999629\n"
     ]
    }
   ],
   "source": [
    "from itertools import combinations\n",
    "\n",
    "# Find all primes between 1000, 10000.\n",
    "primes = []\n",
    "for n in range(1000, 10000):\n",
    "    divisors = [d for d in range(2, n) if n % d == 0]\n",
    "    if len(divisors) == 0:\n",
    "        primes.append(n)\n",
    "\n",
    "# Find all isometric sequences.\n",
    "isometric_seq = []\n",
    "for pair in combinations(primes, 3):\n",
    "    if pair[0] < pair[1] < pair[2] and pair[1] - pair[0] == pair[2] - pair[1]:\n",
    "        isometric_seq.append(pair)\n",
    "\n",
    "# Find all sequences that consist of same numbers.\n",
    "result = []\n",
    "\n",
    "for pair in isometric_seq:\n",
    "    int2str = list(map(str, pair))\n",
    "    \n",
    "    s1 = {int2str[0][0], int2str[0][1], int2str[0][2], int2str[0][3]}\n",
    "    s2 = {int2str[1][0], int2str[1][1], int2str[1][2], int2str[1][3]}\n",
    "    s3 = {int2str[2][0], int2str[2][1], int2str[2][2], int2str[2][3]}\n",
    "    \n",
    "    if s1 == s2 == s3:\n",
    "        result.append(int2str)\n",
    "\n",
    "# Print results        \n",
    "for r in result:\n",
    "    print(r[0] + r[1] + r[2])"
   ]
  }
 ],
 "metadata": {
  "kernelspec": {
   "display_name": "Python 3",
   "language": "python",
   "name": "python3"
  },
  "language_info": {
   "codemirror_mode": {
    "name": "ipython",
    "version": 3
   },
   "file_extension": ".py",
   "mimetype": "text/x-python",
   "name": "python",
   "nbconvert_exporter": "python",
   "pygments_lexer": "ipython3",
   "version": "3.6.8"
  }
 },
 "nbformat": 4,
 "nbformat_minor": 4
}
