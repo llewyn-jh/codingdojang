{
 "cells": [
  {
   "cell_type": "code",
   "execution_count": 1,
   "id": "worse-moses",
   "metadata": {},
   "outputs": [],
   "source": [
    "%config Completer.use_jedi = False"
   ]
  },
  {
   "cell_type": "code",
   "execution_count": 26,
   "id": "proper-secret",
   "metadata": {},
   "outputs": [],
   "source": [
    "def make257with4():\n",
    "    \"\"\"\n",
    "    257 = 2 ** 8 + 1\n",
    "    257 = 4 ** 4 + 4/4\n",
    "    \"\"\"\n",
    "    return 4 ** 4 + 4 /4\n",
    "\n",
    "def make65532with4():\n",
    "    \"\"\"\n",
    "    65532 = 4 * 3 * 43 * 127\n",
    "    65532 = 4 * 129 * 127\n",
    "    65532 = 4 * (128 + 1) * (128 - 1)\n",
    "    65532 = 4 * (2**7 + 1) * (2**7 - 1)\n",
    "    65532 = 4 * (2**14 - 1)\n",
    "    65532 = 4 * (4**7 - 1)\n",
    "    65532 = 4**8 - 4\n",
    "    65532 = 4**(4+4) - 4\n",
    "    \"\"\"\n",
    "    return 4 ** (4+4) - 4"
   ]
  }
 ],
 "metadata": {
  "kernelspec": {
   "display_name": "Python 3",
   "language": "python",
   "name": "python3"
  },
  "language_info": {
   "codemirror_mode": {
    "name": "ipython",
    "version": 3
   },
   "file_extension": ".py",
   "mimetype": "text/x-python",
   "name": "python",
   "nbconvert_exporter": "python",
   "pygments_lexer": "ipython3",
   "version": "3.6.9"
  }
 },
 "nbformat": 4,
 "nbformat_minor": 5
}
