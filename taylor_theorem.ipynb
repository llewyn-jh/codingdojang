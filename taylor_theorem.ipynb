{
 "cells": [
  {
   "cell_type": "code",
   "execution_count": null,
   "id": "sonic-bandwidth",
   "metadata": {},
   "outputs": [],
   "source": [
    "%config Completer.use_jedi = False"
   ]
  },
  {
   "cell_type": "code",
   "execution_count": null,
   "id": "integrated-holocaust",
   "metadata": {},
   "outputs": [],
   "source": [
    "import math\n",
    "\n",
    "def calculate_trigonometric_function(x: float) -> float:\n",
    "    \n",
    "    \"\"\"This function refer to Taylor's theorm.\n",
    "    A remainder for cos or sin at x follows Cauchy's remainder.\n",
    "    The function has 2 steps. Step1 get a degree of\n",
    "    Taylor polynomial function at x. Step 2 calculates sin and cos at x\n",
    "    and return two values\n",
    "    \"\"\"\n",
    "    \n",
    "    # Step1: get a degree of Taylor polynomial function at x\n",
    "    degree = 0\n",
    "    while True:\n",
    "        # Upper limit of Cauchy's remainder for sin or cos at x\n",
    "        upper_limit = x**degree / math.factorial(degree)\n",
    "        error = 5 * 1e-6\n",
    "        if upper_limit < error:\n",
    "            break\n",
    "        else:\n",
    "            degree += 1\n",
    "\n",
    "    # Step2: Calculate sin, cos at x\n",
    "    sin = 0\n",
    "    cos = 0\n",
    "    for i in range(degree):\n",
    "        sin += (-1)**i * x**((2 * i) + 1) / math.factorial(2 * i + 1)\n",
    "        cos += (-1)**i * x**(2 * i) / math.factorial(2 * i)\n",
    "\n",
    "    return sin + cos"
   ]
  }
 ],
 "metadata": {
  "kernelspec": {
   "display_name": "Python 3",
   "language": "python",
   "name": "python3"
  },
  "language_info": {
   "codemirror_mode": {
    "name": "ipython",
    "version": 3
   },
   "file_extension": ".py",
   "mimetype": "text/x-python",
   "name": "python",
   "nbconvert_exporter": "python",
   "pygments_lexer": "ipython3",
   "version": "3.8.2"
  }
 },
 "nbformat": 4,
 "nbformat_minor": 5
}
